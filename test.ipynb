{
 "cells": [
  {
   "cell_type": "code",
   "execution_count": 1,
   "metadata": {},
   "outputs": [],
   "source": [
    "import tensorflow as tf\n",
    "import numpy as np\n",
    "import pandas as pd\n",
    "import pymysql\n",
    "import sys\n",
    "import tqdm\n",
    "from waymo_open_dataset import dataset_pb2 as open_dataset"
   ]
  },
  {
   "cell_type": "code",
   "execution_count": 2,
   "metadata": {},
   "outputs": [],
   "source": [
    "FILENAME = '/home/PJLAB/weixingjian/shared_data/training/segment-15832924468527961_1564_160_1584_160_with_camera_labels.tfrecord'\n"
   ]
  },
  {
   "cell_type": "code",
   "execution_count": 3,
   "metadata": {},
   "outputs": [
    {
     "name": "stderr",
     "output_type": "stream",
     "text": [
      "2022-03-07 19:31:10.868684: I tensorflow/compiler/jit/xla_cpu_device.cc:41] Not creating XLA devices, tf_xla_enable_xla_devices not set\n",
      "2022-03-07 19:31:10.868852: I tensorflow/core/platform/cpu_feature_guard.cc:142] This TensorFlow binary is optimized with oneAPI Deep Neural Network Library (oneDNN) to use the following CPU instructions in performance-critical operations:  SSE4.1 SSE4.2 AVX AVX2 AVX512F FMA\n",
      "To enable them in other operations, rebuild TensorFlow with the appropriate compiler flags.\n",
      "2022-03-07 19:31:10.869720: I tensorflow/core/common_runtime/process_util.cc:146] Creating new thread pool with default inter op setting: 2. Tune using inter_op_parallelism_threads for best performance.\n",
      "2022-03-07 19:31:10.882405: I tensorflow/compiler/mlir/mlir_graph_optimization_pass.cc:116] None of the MLIR optimization passes are enabled (registered 2)\n",
      "2022-03-07 19:31:10.899179: I tensorflow/core/platform/profile_utils/cpu_utils.cc:112] CPU Frequency: 2496000000 Hz\n"
     ]
    }
   ],
   "source": [
    "dataset = tf.data.TFRecordDataset(FILENAME, compression_type='')\n",
    "count = 0\n",
    "# pbar = tqdm(total=199)\n",
    "for data in dataset:\n",
    "    frame = open_dataset.Frame()\n",
    "    frame.ParseFromString(bytearray(data.numpy()))\n",
    "    break\n",
    "    # if count == 0:"
   ]
  },
  {
   "cell_type": "markdown",
   "metadata": {},
   "source": []
  },
  {
   "cell_type": "code",
   "execution_count": 13,
   "metadata": {},
   "outputs": [
    {
     "data": {
      "text/plain": [
       "'1920'"
      ]
     },
     "execution_count": 13,
     "metadata": {},
     "output_type": "execute_result"
    }
   ],
   "source": [
    "a = str(frame.context.camera_calibrations[0].width)\n",
    "a"
   ]
  },
  {
   "cell_type": "code",
   "execution_count": 14,
   "metadata": {},
   "outputs": [],
   "source": [
    "camera_calib = frame.context.camera_calibrations\n"
   ]
  },
  {
   "cell_type": "code",
   "execution_count": 16,
   "metadata": {},
   "outputs": [
    {
     "data": {
      "text/plain": [
       "'[1920, 1280]'"
      ]
     },
     "execution_count": 16,
     "metadata": {},
     "output_type": "execute_result"
    }
   ],
   "source": [
    "str([camera_calib[0].width, camera_calib[0].height])\n"
   ]
  },
  {
   "cell_type": "code",
   "execution_count": 17,
   "metadata": {},
   "outputs": [
    {
     "data": {
      "text/plain": [
       "name: FRONT\n",
       "intrinsic: 2084.2156571134137\n",
       "intrinsic: 2084.2156571134137\n",
       "intrinsic: 982.6994065605393\n",
       "intrinsic: 647.3422876254992\n",
       "intrinsic: 0.05522255992596878\n",
       "intrinsic: -0.3600927587289719\n",
       "intrinsic: 0.0006210752927545161\n",
       "intrinsic: 0.0013973870200010682\n",
       "intrinsic: 0.0\n",
       "extrinsic {\n",
       "  transform: 0.9996870267605353\n",
       "  transform: -0.0030484762173332465\n",
       "  transform: -0.02483053200060265\n",
       "  transform: 1.5443633552511271\n",
       "  transform: 0.0035381381029361398\n",
       "  transform: 0.9997996727443175\n",
       "  transform: 0.019700151246131364\n",
       "  transform: -0.022670639905103627\n",
       "  transform: 0.024765502325718128\n",
       "  transform: -0.019781839477365427\n",
       "  transform: 0.9994975481317834\n",
       "  transform: 2.115798553138532\n",
       "  transform: 0.0\n",
       "  transform: 0.0\n",
       "  transform: 0.0\n",
       "  transform: 1.0\n",
       "}\n",
       "width: 1920\n",
       "height: 1280\n",
       "rolling_shutter_direction: RIGHT_TO_LEFT"
      ]
     },
     "execution_count": 17,
     "metadata": {},
     "output_type": "execute_result"
    }
   ],
   "source": [
    "camera_calib[0]"
   ]
  },
  {
   "cell_type": "code",
   "execution_count": 18,
   "metadata": {},
   "outputs": [],
   "source": [
    "laser_calib = frame.context.laser_calibrations\n"
   ]
  },
  {
   "cell_type": "code",
   "execution_count": 34,
   "metadata": {},
   "outputs": [
    {
     "data": {
      "text/plain": [
       "transform: 0.9996480774576145\n",
       "transform: 0.02321655677418504\n",
       "transform: 0.012834045614938321\n",
       "transform: 4.07\n",
       "transform: -0.02333194551478467\n",
       "transform: 0.9996880191946029\n",
       "transform: 0.008915413465808571\n",
       "transform: 0.0\n",
       "transform: -0.012623056436156592\n",
       "transform: -0.009211719183857268\n",
       "transform: 0.9998778938829918\n",
       "transform: 0.691\n",
       "transform: 0.0\n",
       "transform: 0.0\n",
       "transform: 0.0\n",
       "transform: 1.0"
      ]
     },
     "execution_count": 34,
     "metadata": {},
     "output_type": "execute_result"
    }
   ],
   "source": [
    "laser_calib[0].ex"
   ]
  },
  {
   "cell_type": "code",
   "execution_count": null,
   "metadata": {},
   "outputs": [],
   "source": []
  }
 ],
 "metadata": {
  "interpreter": {
   "hash": "97bfbcc5cb9e5d4a05eac3c040ef4cceac51cd087a9a5257dfa6a407d8fdb8b9"
  },
  "kernelspec": {
   "display_name": "Python 3.7.11 ('py3')",
   "language": "python",
   "name": "python3"
  },
  "language_info": {
   "codemirror_mode": {
    "name": "ipython",
    "version": 3
   },
   "file_extension": ".py",
   "mimetype": "text/x-python",
   "name": "python",
   "nbconvert_exporter": "python",
   "pygments_lexer": "ipython3",
   "version": "3.7.11"
  },
  "orig_nbformat": 4
 },
 "nbformat": 4,
 "nbformat_minor": 2
}
